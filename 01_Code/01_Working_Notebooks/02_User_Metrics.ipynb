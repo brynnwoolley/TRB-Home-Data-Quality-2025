{
 "cells": [
  {
   "cell_type": "code",
   "execution_count": 1,
   "metadata": {},
   "outputs": [
    {
     "data": {
      "text/plain": [
       "'/home/bwool/RESEARCH/TRB-Home-Data-Quality-2025'"
      ]
     },
     "execution_count": 1,
     "metadata": {},
     "output_type": "execute_result"
    }
   ],
   "source": [
    "import numpy as np\n",
    "import pandas as pd\n",
    "from matplotlib import pyplot as plt\n",
    "from scipy.stats import gaussian_kde\n",
    "from sklearn.neighbors import NearestNeighbors\n",
    "from collections import defaultdict\n",
    "from tqdm import tqdm\n",
    "import os\n",
    "from pathlib import Path\n",
    "\n",
    "os.chdir(\"../..\")\n",
    "os.getcwd()"
   ]
  },
  {
   "cell_type": "markdown",
   "metadata": {},
   "source": [
    "# User-Level Data Quality Metrics (2019 Sample Data)\n",
    "\n",
    "## Overview\n",
    "\n",
    "This notebook computes per-user data quality metrics from cleaned mobile location data.\n",
    "\n",
    "Key steps:\n",
    "- Load cleaned Parquet files\n",
    "- Compute metrics: record count, device type, accuracy, night coverage\n",
    "- Save per-user metrics as CSVs\n",
    "\n",
    "📁 Input: `00_Data/02_Cleaned_Sample_Data/`  \n",
    "📁 Output: `00_Data/03_Metrics_Sample_Data/`\n"
   ]
  },
  {
   "cell_type": "markdown",
   "metadata": {},
   "source": [
    "## User Metric Computation Function"
   ]
  },
  {
   "cell_type": "code",
   "execution_count": 2,
   "metadata": {},
   "outputs": [],
   "source": [
    "def compute_user_metrics(\n",
    "    data: pd.DataFrame,\n",
    "    output_filepath: str = None,\n",
    "    night_start_hour: int = 19, # 7pm\n",
    "    night_end_hour: int = 7     # 7am\n",
    ") -> pd.DataFrame:\n",
    "    # === Core metrics ===\n",
    "    total_records = data.groupby('caid').size().rename('total_records')\n",
    "    prop_ios = data.groupby('caid')['is_iOS'].mean().rename('prop_ios').astype(float)\n",
    "\n",
    "    data['date'] = data['datetime_pdt'].dt.date\n",
    "    days_with_data = data.groupby('caid')['date'].nunique().rename('days_with_data')\n",
    "\n",
    "    prop_high_accuracy = (\n",
    "        data.groupby('caid')['horizontal_accuracy']\n",
    "        .apply(lambda x: (x <= 100).mean())\n",
    "        .rename('prop_high_accuracy')\n",
    "    )\n",
    "    # === Night & bin labels ===\n",
    "    data['hour'] = data['datetime_pdt'].dt.hour\n",
    "    data['minute'] = data['datetime_pdt'].dt.minute\n",
    "    data['is_night'] = ((data['hour'] >= night_start_hour) | (data['hour'] < night_end_hour))\n",
    "    data['night_date'] = data['datetime_pdt'].dt.date\n",
    "    data.loc[data['hour'] < night_end_hour, 'night_date'] -= pd.Timedelta(days=1)\n",
    "\n",
    "    mask_night = data['is_night']\n",
    "    data.loc[mask_night, 'night_minute'] = data.loc[mask_night, 'hour'] * 60 + data.loc[mask_night, 'minute']\n",
    "    data.loc[mask_night, 'night_bin'] = data.loc[mask_night, 'night_minute'] // 30\n",
    "\n",
    "    # === Night metrics ===\n",
    "    temp = data.loc[mask_night, ['caid', 'night_date', 'night_bin']].copy()\n",
    "    night_counts = (\n",
    "        temp.groupby('caid')\n",
    "        .agg(\n",
    "            total_night_pings=('night_date', 'count'),\n",
    "            unique_nights=('night_date', 'nunique')\n",
    "        )\n",
    "    )\n",
    "    night_counts['avg_night_pings_per_night'] = (\n",
    "        night_counts['total_night_pings'] / night_counts['unique_nights']\n",
    "    )\n",
    "    # === Bin-level stats ===\n",
    "    bins_per_night = (\n",
    "        temp.groupby(['caid', 'night_date'])['night_bin']\n",
    "        .nunique()\n",
    "        .rename('bins_this_night')\n",
    "    ).reset_index()\n",
    "\n",
    "    avg_bins_per_night = (\n",
    "        bins_per_night.groupby('caid')['bins_this_night']\n",
    "        .mean()\n",
    "        .rename('avg_bins_per_night')\n",
    "    )\n",
    "    # === Combine all metrics ===\n",
    "    user_metrics = pd.concat([\n",
    "        total_records,\n",
    "        prop_ios,\n",
    "        days_with_data,\n",
    "        prop_high_accuracy\n",
    "    ], axis=1).reset_index()\n",
    "\n",
    "    user_metrics = (\n",
    "        user_metrics\n",
    "        .merge(night_counts.reset_index(), on='caid', how='left')\n",
    "        .merge(avg_bins_per_night.reset_index(), on='caid', how='left')\n",
    "    )\n",
    "\n",
    "    # === Save to CSV ===\n",
    "    if output_filepath:\n",
    "        user_metrics.to_csv(output_filepath, index=False)\n",
    "\n",
    "    return user_metrics\n"
   ]
  },
  {
   "cell_type": "markdown",
   "metadata": {},
   "source": [
    "## Compute and Save User Metrics"
   ]
  },
  {
   "cell_type": "code",
   "execution_count": 3,
   "metadata": {},
   "outputs": [
    {
     "name": "stderr",
     "output_type": "stream",
     "text": [
      "Computing user metrics:  11%|█         | 1/9 [00:10<01:24, 10.55s/it]"
     ]
    },
    {
     "name": "stdout",
     "output_type": "stream",
     "text": [
      "part-00001-85a0c7d9-db42-457d-ab9d-d104038b7a1e-c000.snappy_metrics.csv: 15,444 users processed\n"
     ]
    },
    {
     "name": "stderr",
     "output_type": "stream",
     "text": [
      "Computing user metrics:  22%|██▏       | 2/9 [00:20<01:12, 10.41s/it]"
     ]
    },
    {
     "name": "stdout",
     "output_type": "stream",
     "text": [
      "part-00002-85a0c7d9-db42-457d-ab9d-d104038b7a1e-c000.snappy_metrics.csv: 15,259 users processed\n"
     ]
    },
    {
     "name": "stderr",
     "output_type": "stream",
     "text": [
      "Computing user metrics:  33%|███▎      | 3/9 [00:31<01:01, 10.29s/it]"
     ]
    },
    {
     "name": "stdout",
     "output_type": "stream",
     "text": [
      "part-00003-85a0c7d9-db42-457d-ab9d-d104038b7a1e-c000.snappy_metrics.csv: 15,053 users processed\n"
     ]
    },
    {
     "name": "stderr",
     "output_type": "stream",
     "text": [
      "Computing user metrics:  44%|████▍     | 4/9 [00:41<00:51, 10.29s/it]"
     ]
    },
    {
     "name": "stdout",
     "output_type": "stream",
     "text": [
      "part-00000-85a0c7d9-db42-457d-ab9d-d104038b7a1e-c000.snappy_metrics.csv: 15,369 users processed\n"
     ]
    },
    {
     "name": "stderr",
     "output_type": "stream",
     "text": [
      "Computing user metrics:  56%|█████▌    | 5/9 [00:51<00:41, 10.30s/it]"
     ]
    },
    {
     "name": "stdout",
     "output_type": "stream",
     "text": [
      "part-00005-85a0c7d9-db42-457d-ab9d-d104038b7a1e-c000.snappy_metrics.csv: 15,352 users processed\n"
     ]
    },
    {
     "name": "stderr",
     "output_type": "stream",
     "text": [
      "Computing user metrics:  67%|██████▋   | 6/9 [01:02<00:31, 10.39s/it]"
     ]
    },
    {
     "name": "stdout",
     "output_type": "stream",
     "text": [
      "part-00007-85a0c7d9-db42-457d-ab9d-d104038b7a1e-c000.snappy_metrics.csv: 15,220 users processed\n"
     ]
    },
    {
     "name": "stderr",
     "output_type": "stream",
     "text": [
      "Computing user metrics:  78%|███████▊  | 7/9 [01:13<00:21, 10.70s/it]"
     ]
    },
    {
     "name": "stdout",
     "output_type": "stream",
     "text": [
      "part-00004-85a0c7d9-db42-457d-ab9d-d104038b7a1e-c000.snappy_metrics.csv: 15,311 users processed\n"
     ]
    },
    {
     "name": "stderr",
     "output_type": "stream",
     "text": [
      "Computing user metrics:  89%|████████▉ | 8/9 [01:24<00:10, 10.78s/it]"
     ]
    },
    {
     "name": "stdout",
     "output_type": "stream",
     "text": [
      "part-00008-85a0c7d9-db42-457d-ab9d-d104038b7a1e-c000.snappy_metrics.csv: 15,293 users processed\n"
     ]
    },
    {
     "name": "stderr",
     "output_type": "stream",
     "text": [
      "Computing user metrics: 100%|██████████| 9/9 [01:35<00:00, 10.58s/it]"
     ]
    },
    {
     "name": "stdout",
     "output_type": "stream",
     "text": [
      "part-00006-85a0c7d9-db42-457d-ab9d-d104038b7a1e-c000.snappy_metrics.csv: 15,185 users processed\n"
     ]
    },
    {
     "name": "stderr",
     "output_type": "stream",
     "text": [
      "\n"
     ]
    }
   ],
   "source": [
    "def compute_2019_metrics():\n",
    "    # === Set up folder and file list ===\n",
    "    folder_2019_cleaned = \"00_Data/02_Cleaned_Sample_Data/2019_Cleaned_Data\"\n",
    "    output_folder = \"00_Data/03_Metrics_Sample_Data\"\n",
    "    os.makedirs(output_folder, exist_ok=True)\n",
    "\n",
    "    cleaned_files = [os.path.join(folder_2019_cleaned, f) for f in os.listdir(folder_2019_cleaned) if f.endswith(\".parquet\")]\n",
    "\n",
    "    # === Process each cleaned parquet ===\n",
    "    for filepath in tqdm(cleaned_files, desc=\"Computing user metrics\"):\n",
    "        try:\n",
    "            # Load cleaned data\n",
    "            data = pd.read_parquet(filepath, engine=\"pyarrow\")\n",
    "\n",
    "            # Compute metrics\n",
    "            user_metrics = compute_user_metrics(data)\n",
    "\n",
    "            # Build output CSV path\n",
    "            filename_base = os.path.basename(filepath).replace(\".parquet\", \"_metrics.csv\")\n",
    "            output_path = os.path.join(output_folder, filename_base)\n",
    "\n",
    "            # Save metrics\n",
    "            user_metrics.to_csv(output_path, index=False)\n",
    "\n",
    "            print(f\"{filename_base}: {len(user_metrics):,} users processed\")\n",
    "\n",
    "        except Exception as e:\n",
    "            print(f\"Error processing {filepath}: {e}\")\n",
    "\n",
    "compute_2019_metrics()\n",
    "#"
   ]
  },
  {
   "cell_type": "markdown",
   "metadata": {},
   "source": [
    "##  User Metrics Tracked\n",
    "\n",
    "| **Metric**                   | **Description**                                          |\n",
    "|-----------------------------|----------------------------------------------------------|\n",
    "| `total_records`             | Total number of observations for the user               |\n",
    "| `prop_ios`                  | Share of observations from iOS devices                  |\n",
    "| `days_with_data`            | Unique calendar days with observations                  |\n",
    "| `prop_high_accuracy`        | Share of pings with horizontal accuracy ≤ 100 meters    |\n",
    "| `total_night_pings`         | Count of nighttime pings (7PM–7AM)                      |\n",
    "| `unique_nights`             | Unique nights with at least one ping                    |\n",
    "| `avg_night_pings_per_night`| Average pings per night (if any)                        |\n",
    "| `avg_bins_per_night`        | Average 30-min bins covered per night                  |\n"
   ]
  },
  {
   "cell_type": "markdown",
   "metadata": {},
   "source": [
    "## Load and Combine User Metrics"
   ]
  },
  {
   "cell_type": "code",
   "execution_count": 4,
   "metadata": {},
   "outputs": [
    {
     "name": "stdout",
     "output_type": "stream",
     "text": [
      "Loaded 137,486 users from 9 files\n"
     ]
    }
   ],
   "source": [
    "def load_all_user_metrics(folder_path: str) -> pd.DataFrame:\n",
    "    csv_files = [\n",
    "        os.path.join(folder_path, f)\n",
    "        for f in os.listdir(folder_path)\n",
    "        if f.endswith(\".csv\")\n",
    "    ]\n",
    "\n",
    "    df_list = []\n",
    "    for f in csv_files:\n",
    "        df = pd.read_csv(f)\n",
    "        df_list.append(df)\n",
    "\n",
    "    combined = pd.concat(df_list, ignore_index=True)\n",
    "    return combined\n",
    "metrics_folder = \"00_Data/03_Metrics_Sample_Data\"\n",
    "all_user_metrics = load_all_user_metrics(metrics_folder)\n",
    "print(f\"Loaded {len(all_user_metrics):,} users from {len(os.listdir(metrics_folder))} files\")"
   ]
  },
  {
   "cell_type": "code",
   "execution_count": null,
   "metadata": {},
   "outputs": [],
   "source": [
    "all_user_metrics.memory_usage(deep=True).sum() / (1024 ** 2)\n"
   ]
  },
  {
   "cell_type": "markdown",
   "metadata": {},
   "source": [
    "# plotting"
   ]
  },
  {
   "cell_type": "code",
   "execution_count": null,
   "metadata": {},
   "outputs": [],
   "source": [
    "fig, axs = plt.subplots(1, 3, figsize=(18, 5))\n",
    "bin_count = 100\n",
    "\n",
    "# Submetric 1: Avg Night Pings per Night\n",
    "axs[0].hist(all_user_metrics['avg_night_pings_per_night'].dropna(), bins=bin_count)\n",
    "axs[0].set_title('Avg Night Pings per Night')\n",
    "axs[0].set_xlabel('Avg Night Pings')\n",
    "axs[0].set_ylabel('Number of Users')\n",
    "\n",
    "# Submetric 2: Avg Bins per Night\n",
    "axs[1].hist(all_user_metrics['avg_bins_per_night'].dropna(), bins=bin_count)\n",
    "axs[1].set_title('Avg 30-min Bins per Night')\n",
    "axs[1].set_xlabel('Avg Bins')\n",
    "axs[1].set_ylabel('Number of Users')\n",
    "\n",
    "# Submetric 3: Unique Nights\n",
    "axs[2].hist(all_user_metrics['unique_nights'].dropna(), bins=bin_count)\n",
    "axs[2].set_title('Unique Nights with Data')\n",
    "axs[2].set_xlabel('Unique Nights')\n",
    "axs[2].set_ylabel('Number of Users')\n",
    "\n",
    "for ax in axs:\n",
    "    ax.grid(True)\n",
    "    ax.set_yscale('log')\n",
    "plt.tight_layout()\n",
    "plt.show()\n"
   ]
  },
  {
   "cell_type": "code",
   "execution_count": null,
   "metadata": {},
   "outputs": [],
   "source": [
    "fig, axs = plt.subplots(1, 3, figsize=(18, 5))\n",
    "bin_count = 50\n",
    "\n",
    "# --- Helper to add KDE ---\n",
    "def plot_hist_with_kde(ax, data, bins, title, xlabel):\n",
    "    # Histogram\n",
    "    counts, bins, patches = ax.hist(data, bins=bins, alpha=0.6, label='Histogram')\n",
    "\n",
    "    # KDE\n",
    "    kde = gaussian_kde(data)\n",
    "    x_vals = np.linspace(min(data), max(data), 1000)\n",
    "    kde_vals = kde(x_vals)\n",
    "    # Scale KDE to histogram height\n",
    "    kde_scaled = kde_vals * max(counts) / max(kde_vals)\n",
    "    ax.plot(x_vals, kde_scaled, color='red', label='KDE')\n",
    "\n",
    "    ax.set_title(title)\n",
    "    ax.set_xlabel(xlabel)\n",
    "    ax.set_ylabel('Number of Users')\n",
    "    ax.legend()\n",
    "    ax.grid(True)\n",
    "    ax.set_yscale('log')\n",
    "\n",
    "# --- Submetric 1: Log-space KDE ---\n",
    "data = all_user_metrics['avg_night_pings_per_night'].dropna()\n",
    "clip_max = 400\n",
    "data_clipped = np.clip(data, 0, clip_max)  # Clip huge outliers for clean plot\n",
    "\n",
    "# KDE in linear space, but clipped\n",
    "kde = gaussian_kde(data_clipped)\n",
    "x_vals = np.linspace(data_clipped.min(), data_clipped.max(), 1000)\n",
    "kde_vals = kde(x_vals)\n",
    "\n",
    "counts, bins, patches = axs[0].hist(data_clipped, bins=bin_count, alpha=0.6, label='Histogram')\n",
    "kde_scaled = kde_vals * max(counts) / max(kde_vals)\n",
    "axs[0].plot(x_vals, kde_scaled, color='red', label='KDE')\n",
    "\n",
    "axs[0].set_title(f'Avg Night Pings per Night (clipped at {clip_max})')\n",
    "axs[0].set_xlabel('Avg Night Pings')\n",
    "axs[0].set_ylabel('Number of Users')\n",
    "axs[0].legend()\n",
    "axs[0].grid(True)\n",
    "axs[0].set_yscale('log')\n",
    "\n",
    "# --- Submetric 2 ---\n",
    "plot_hist_with_kde(\n",
    "    axs[1],\n",
    "    all_user_metrics['avg_bins_per_night'].dropna(),\n",
    "    bins=bin_count,\n",
    "    title='Avg 30-min Bins per Night',\n",
    "    xlabel='Avg Bins'\n",
    ")\n",
    "axs[1].set_xlim(0,24)\n",
    "# --- Submetric 3 ---\n",
    "plot_hist_with_kde(\n",
    "    axs[2],\n",
    "    all_user_metrics['unique_nights'].dropna(),\n",
    "    bins=bin_count,\n",
    "    title='Unique Nights with Data',\n",
    "    xlabel='Unique Nights'\n",
    ")\n",
    "\n",
    "plt.tight_layout()\n",
    "plt.show()\n"
   ]
  },
  {
   "cell_type": "code",
   "execution_count": null,
   "metadata": {},
   "outputs": [],
   "source": [
    "# Feature to plot\n",
    "feature = 'avg_night_pings_per_night'\n",
    "\n",
    "fig, ax = plt.subplots()\n",
    "ax.hist(all_user_metrics[feature], bins=100)\n",
    "ax.set_title('Distribution of Average Night Pings per Night')\n",
    "ax.set_xlabel('Average Night Pings per Night')\n",
    "ax.set_ylabel('Count')\n",
    "ax.grid(axis='y', zorder=0)\n",
    "\n",
    "for bar in ax.patches:\n",
    "    bar.set_zorder(2)\n",
    "\n",
    "ax.set_xlim(left=0, right=1000)\n",
    "ax.set_yscale('log')\n",
    "plt.show()"
   ]
  },
  {
   "cell_type": "code",
   "execution_count": null,
   "metadata": {},
   "outputs": [],
   "source": [
    "all_user_metrics['avg_night_pings_per_night'].describe()"
   ]
  },
  {
   "cell_type": "code",
   "execution_count": null,
   "metadata": {},
   "outputs": [],
   "source": [
    "# Features to plot\n",
    "features = [\n",
    "    'total_night_pings',\n",
    "    'unique_nights',\n",
    "    'avg_night_pings_per_night',\n",
    "    'avg_bins_per_night',\n",
    "]\n",
    "\n",
    "# Plot each feature\n",
    "for feature in features:\n",
    "    fig, ax = plt.subplots()\n",
    "    ax.hist(all_user_metrics[feature], bins=30)\n",
    "    ax.set_title(f'Distribution of {feature}')\n",
    "    ax.set_xlabel(feature)\n",
    "    ax.set_ylabel('Count')\n",
    "    ax.set_yscale('log')\n",
    "    ax.grid(axis='y', zorder=0)\n",
    "    for bar in ax.patches:\n",
    "        bar.set_zorder(2)\n",
    "    plt.show()"
   ]
  }
 ],
 "metadata": {
  "kernelspec": {
   "display_name": "base",
   "language": "python",
   "name": "python3"
  },
  "language_info": {
   "codemirror_mode": {
    "name": "ipython",
    "version": 3
   },
   "file_extension": ".py",
   "mimetype": "text/x-python",
   "name": "python",
   "nbconvert_exporter": "python",
   "pygments_lexer": "ipython3",
   "version": "3.12.8"
  }
 },
 "nbformat": 4,
 "nbformat_minor": 2
}
